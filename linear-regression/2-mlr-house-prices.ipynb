{
 "cells": [
  {
   "cell_type": "markdown",
   "metadata": {},
   "source": [
    "<link rel='stylesheet' href='../assets/css/main.css'/>\n",
    "\n",
    "[<< back to main index](../README.md)\n",
    "\n",
    "# Multiple Linear Regression Lab : House Prices\n",
    "\n",
    "### Overview\n",
    "Estimate house prices using MLR\n",
    "\n",
    "### Builds on\n",
    "None\n",
    "\n",
    "### Run time\n",
    "approx. 20 minutes\n",
    "\n",
    "### Notes\n",
    "\n"
   ]
  },
  {
   "cell_type": "code",
   "execution_count": 1,
   "metadata": {},
   "outputs": [
    {
     "name": "stdout",
     "output_type": "stream",
     "text": [
      "Spark UI running on http://YOURIPADDRESS:4040\n"
     ]
    }
   ],
   "source": [
    "%matplotlib inline\n",
    "\n",
    "import numpy as np\n",
    "import pandas as pd\n",
    "import matplotlib.pyplot as plt\n",
    "\n",
    "print('Spark UI running on http://YOURIPADDRESS:' + sc.uiWebUrl.split(':')[2])"
   ]
  },
  {
   "cell_type": "markdown",
   "metadata": {},
   "source": [
    "\n",
    "## Step 1 : House data"
   ]
  },
  {
   "cell_type": "code",
   "execution_count": 2,
   "metadata": {
    "attributes": {
     "classes": [
      "R"
     ],
     "id": ""
    }
   },
   "outputs": [
    {
     "name": "stdout",
     "output_type": "stream",
     "text": [
      "read 27,063 records\n",
      "CPU times: user 4 ms, sys: 0 ns, total: 4 ms\n",
      "Wall time: 8.69 s\n"
     ]
    }
   ],
   "source": [
    "%%time\n",
    "\n",
    "housePrices = spark.read.csv(\"/data/house-prices/house-sales-full.csv\", \\\n",
    "                             header=True, inferSchema=True)\n",
    "print(\"read {:,} records\".format(housePrices.count()))\n"
   ]
  },
  {
   "cell_type": "code",
   "execution_count": 3,
   "metadata": {},
   "outputs": [
    {
     "name": "stdout",
     "output_type": "stream",
     "text": [
      "root\n",
      " |-- DocumentID: integer (nullable = true)\n",
      " |-- Date: string (nullable = true)\n",
      " |-- SalePrice: integer (nullable = true)\n",
      " |-- PropertyID: long (nullable = true)\n",
      " |-- PropertyType: string (nullable = true)\n",
      " |-- ym: string (nullable = true)\n",
      " |-- zhvi_px: integer (nullable = true)\n",
      " |-- zhvi_idx: double (nullable = true)\n",
      " |-- AdjSalePrice: decimal(8,0) (nullable = true)\n",
      " |-- NbrLivingUnits: integer (nullable = true)\n",
      " |-- SqFtLot: integer (nullable = true)\n",
      " |-- SqFtTotLiving: integer (nullable = true)\n",
      " |-- SqFtFinBasement: integer (nullable = true)\n",
      " |-- Bathrooms: double (nullable = true)\n",
      " |-- Bedrooms: integer (nullable = true)\n",
      " |-- BldgGrade: integer (nullable = true)\n",
      " |-- YrBuilt: integer (nullable = true)\n",
      " |-- YrRenovated: integer (nullable = true)\n",
      " |-- TrafficNoise: integer (nullable = true)\n",
      " |-- LandVal: integer (nullable = true)\n",
      " |-- ImpsVal: integer (nullable = true)\n",
      " |-- ZipCode: integer (nullable = true)\n",
      " |-- NewConstruction: boolean (nullable = true)\n",
      "\n",
      "+----------+--------+---------+----------+-------------+-------+-------+-----------+------------+--------------+-------+-------------+---------------+---------+--------+---------+-------+-----------+------------+-------+-------+-------+---------------+\n",
      "|DocumentID|    Date|SalePrice|PropertyID| PropertyType|     ym|zhvi_px|   zhvi_idx|AdjSalePrice|NbrLivingUnits|SqFtLot|SqFtTotLiving|SqFtFinBasement|Bathrooms|Bedrooms|BldgGrade|YrBuilt|YrRenovated|TrafficNoise|LandVal|ImpsVal|ZipCode|NewConstruction|\n",
      "+----------+--------+---------+----------+-------------+-------+-------+-----------+------------+--------------+-------+-------------+---------------+---------+--------+---------+-------+-----------+------------+-------+-------+-------+---------------+\n",
      "|         1| 9/16/14|   280000|   1000102|    Multiplex| 9/1/14| 405100|0.930836397|      300805|             2|   9373|         2400|              0|      3.0|       6|        7|   1991|          0|           0|  70000| 229000|  98002|          false|\n",
      "|         2| 6/16/06|  1000000|   1200013|Single Family| 6/1/06| 404400|0.929227941|     1076162|             1|  20156|         3764|           1452|     3.75|       4|       10|   2005|          0|           0| 203000| 590000|  98166|           true|\n",
      "|         3| 1/29/07|   745000|   1200019|Single Family| 1/1/07| 425600|0.977941176|      761805|             1|  26036|         2060|            900|     1.75|       4|        8|   1947|          0|           0| 183000| 275000|  98166|          false|\n",
      "|         4| 2/25/08|   425000|   2800016|Single Family| 2/1/08| 418400|0.961397059|      442065|             1|   8618|         3200|           1640|     3.75|       5|        7|   1966|          0|           0| 104000| 229000|  98168|          false|\n",
      "|         5| 3/29/13|   240000|   2800024|Single Family| 3/1/13| 351600|0.807904412|      297065|             1|   8620|         1720|              0|     1.75|       4|        7|   1948|          0|           0| 104000| 205000|  98168|          false|\n",
      "|         6| 3/30/09|   349900|   3600090|    Townhouse| 3/1/09| 369800|0.849724265|      411781|             1|   1012|          930|              0|      1.5|       2|        8|   2008|          0|           0| 170000| 207000|  98144|           true|\n",
      "|         7| 8/28/13|   327500|   3800004|Single Family| 8/1/13| 374300|0.860064338|      380785|             1|  34465|         1750|              0|      1.5|       3|        8|   1961|          0|           0| 165000| 227000|  98178|          false|\n",
      "|         8| 5/24/07|   347000|   3800009|Single Family| 5/1/07| 432100|0.992876838|      349489|             1|  14659|         1860|            620|     1.75|       4|        7|   1963|          0|           0| 115000| 154000|  98178|          false|\n",
      "|         9| 9/22/06|   220400|   6600055|Single Family| 9/1/06| 414800|   0.953125|      231239|             1|   5324|          990|              0|      1.0|       2|        6|   1930|          0|           3|  90000|  75000|  98032|          false|\n",
      "|        10| 8/22/06|   437500|   7200080|    Multiplex| 8/1/06| 411100|0.944623162|      463148|             2|  10585|         1980|              0|      2.0|       4|        6|   1924|          0|           0| 124000| 116000|  98055|          false|\n",
      "|        11|10/16/14|   150000|   7200179|Single Family|10/1/14| 407400|0.936121324|      160236|             1|  12750|          840|              0|      1.0|       2|        6|   1925|          0|           0| 133000|  73000|  98055|          false|\n",
      "|        12| 1/14/10|   300000|   7400054|Single Family| 1/1/10| 350800|0.806066176|      372178|             1|   5200|         1750|            600|      1.0|       3|        7|   1958|          0|           1| 100000| 172000|  98118|          false|\n",
      "|        13| 6/26/08|   292000|   7400062|Single Family| 6/1/08| 403200|0.926470588|      315175|             1|   5240|          790|              0|      1.0|       2|        6|   1925|          0|           1| 100000| 152000|  98118|          false|\n",
      "|        14| 5/21/14|   299800|   7400062|Single Family| 5/1/14| 398100|0.914751838|      327739|             1|   5240|          790|              0|      1.0|       2|        6|   1925|          0|           1| 100000| 152000|  98118|          false|\n",
      "|        15| 6/13/13|   370000|   7600065|    Townhouse| 6/1/13| 366100|0.841222426|      439836|             1|   1245|         1530|            480|     2.25|       3|        9|   2014|          0|           2|  91000| 439000|     -1|          false|\n",
      "|        16| 9/25/06|   605000|   7600093|Single Family| 9/1/06| 414800|   0.953125|      634754|             1|   7320|         2120|              0|     2.75|       3|        8|   1901|          0|           0| 261000| 422000|  98122|          false|\n",
      "|        17|  5/4/07|   475000|   7600136|    Townhouse| 5/1/07| 432100|0.992876838|      478408|             1|   1148|         1130|            330|      2.0|       2|        9|   2007|          0|           0|  91000| 383000|     -1|           true|\n",
      "|        18| 2/24/07|   425000|   7600203|Single Family| 2/1/07| 427800|0.982996324|      432352|             1|   3485|         2620|           1060|      1.5|       4|        7|   1920|          0|           0| 235000| 373000|  98122|          false|\n",
      "|        19| 3/26/08|   357500|   7600218|    Townhouse| 3/1/08| 415100|0.953814338|      374811|             1|    924|         1250|            210|      1.5|       2|        8|   2007|          0|           0|  91000| 352000|     -1|           true|\n",
      "|        20| 3/14/06|   455000|   9000210|Single Family| 3/1/06| 392100|0.900965074|      505014|             1|   5253|         1500|            750|     1.75|       3|        6|   1919|          0|           0| 333000| 117000|  98115|          false|\n",
      "+----------+--------+---------+----------+-------------+-------+-------+-----------+------------+--------------+-------+-------------+---------------+---------+--------+---------+-------+-----------+------------+-------+-------+-------+---------------+\n",
      "only showing top 20 rows\n",
      "\n"
     ]
    }
   ],
   "source": [
    "housePrices.printSchema()\n",
    "housePrices.show()"
   ]
  },
  {
   "cell_type": "markdown",
   "metadata": {},
   "source": [
    "Wow! That's a lot of columns.  Maybe we should foucs on just a few of them.\n",
    "\n",
    "**=> Select only \"SalePrice\", \"Bedrooms\", \"Bathrooms\", \"SqFtTotLiving\", \"SqFtLot\" **"
   ]
  },
  {
   "cell_type": "code",
   "execution_count": 4,
   "metadata": {},
   "outputs": [
    {
     "name": "stdout",
     "output_type": "stream",
     "text": [
      "+---------+--------+---------+-------------+-------+\n",
      "|SalePrice|Bedrooms|Bathrooms|SqFtTotLiving|SqFtLot|\n",
      "+---------+--------+---------+-------------+-------+\n",
      "|   280000|       6|      3.0|         2400|   9373|\n",
      "|  1000000|       4|     3.75|         3764|  20156|\n",
      "|   745000|       4|     1.75|         2060|  26036|\n",
      "|   425000|       5|     3.75|         3200|   8618|\n",
      "|   240000|       4|     1.75|         1720|   8620|\n",
      "|   349900|       2|      1.5|          930|   1012|\n",
      "|   327500|       3|      1.5|         1750|  34465|\n",
      "|   347000|       4|     1.75|         1860|  14659|\n",
      "|   220400|       2|      1.0|          990|   5324|\n",
      "|   437500|       4|      2.0|         1980|  10585|\n",
      "|   150000|       2|      1.0|          840|  12750|\n",
      "|   300000|       3|      1.0|         1750|   5200|\n",
      "|   292000|       2|      1.0|          790|   5240|\n",
      "|   299800|       2|      1.0|          790|   5240|\n",
      "|   370000|       3|     2.25|         1530|   1245|\n",
      "|   605000|       3|     2.75|         2120|   7320|\n",
      "|   475000|       2|      2.0|         1130|   1148|\n",
      "|   425000|       4|      1.5|         2620|   3485|\n",
      "|   357500|       2|      1.5|         1250|    924|\n",
      "|   455000|       3|     1.75|         1500|   5253|\n",
      "+---------+--------+---------+-------------+-------+\n",
      "only showing top 20 rows\n",
      "\n"
     ]
    }
   ],
   "source": [
    "# TODO: select only \"SalePrice\", \"Bedrooms\", \"Bathrooms\", \"SqFtTotLiving\", \"SqFtLot\"\n",
    "housePrices_small = housePrices.select(\"SalePrice\", \"Bedrooms\", \"Bathrooms\", \"SqFtTotLiving\", \"SqFtLot\")\n",
    "housePrices_small.show()"
   ]
  },
  {
   "cell_type": "markdown",
   "metadata": {},
   "source": [
    "## Step 2: Create Features and Label Column in Dataframe\n",
    "\n",
    "We will create our \"features\" column, which is of type vector, and our label column, for which we can just reuse the SquareFootage column.\n",
    "\n",
    "\n",
    "\n"
   ]
  },
  {
   "cell_type": "code",
   "execution_count": 5,
   "metadata": {
    "attributes": {
     "classes": [
      "R"
     ],
     "id": ""
    }
   },
   "outputs": [
    {
     "name": "stdout",
     "output_type": "stream",
     "text": [
      "+---------+--------+---------+-------------+-------+-------------------------+-------+\n",
      "|SalePrice|Bedrooms|Bathrooms|SqFtTotLiving|SqFtLot|features                 |label  |\n",
      "+---------+--------+---------+-------------+-------+-------------------------+-------+\n",
      "|280000   |6       |3.0      |2400         |9373   |[6.0,3.0,2400.0,9373.0]  |280000 |\n",
      "|1000000  |4       |3.75     |3764         |20156  |[4.0,3.75,3764.0,20156.0]|1000000|\n",
      "|745000   |4       |1.75     |2060         |26036  |[4.0,1.75,2060.0,26036.0]|745000 |\n",
      "|425000   |5       |3.75     |3200         |8618   |[5.0,3.75,3200.0,8618.0] |425000 |\n",
      "|240000   |4       |1.75     |1720         |8620   |[4.0,1.75,1720.0,8620.0] |240000 |\n",
      "|349900   |2       |1.5      |930          |1012   |[2.0,1.5,930.0,1012.0]   |349900 |\n",
      "|327500   |3       |1.5      |1750         |34465  |[3.0,1.5,1750.0,34465.0] |327500 |\n",
      "|347000   |4       |1.75     |1860         |14659  |[4.0,1.75,1860.0,14659.0]|347000 |\n",
      "|220400   |2       |1.0      |990          |5324   |[2.0,1.0,990.0,5324.0]   |220400 |\n",
      "|437500   |4       |2.0      |1980         |10585  |[4.0,2.0,1980.0,10585.0] |437500 |\n",
      "|150000   |2       |1.0      |840          |12750  |[2.0,1.0,840.0,12750.0]  |150000 |\n",
      "|300000   |3       |1.0      |1750         |5200   |[3.0,1.0,1750.0,5200.0]  |300000 |\n",
      "|292000   |2       |1.0      |790          |5240   |[2.0,1.0,790.0,5240.0]   |292000 |\n",
      "|299800   |2       |1.0      |790          |5240   |[2.0,1.0,790.0,5240.0]   |299800 |\n",
      "|370000   |3       |2.25     |1530         |1245   |[3.0,2.25,1530.0,1245.0] |370000 |\n",
      "|605000   |3       |2.75     |2120         |7320   |[3.0,2.75,2120.0,7320.0] |605000 |\n",
      "|475000   |2       |2.0      |1130         |1148   |[2.0,2.0,1130.0,1148.0]  |475000 |\n",
      "|425000   |4       |1.5      |2620         |3485   |[4.0,1.5,2620.0,3485.0]  |425000 |\n",
      "|357500   |2       |1.5      |1250         |924    |[2.0,1.5,1250.0,924.0]   |357500 |\n",
      "|455000   |3       |1.75     |1500         |5253   |[3.0,1.75,1500.0,5253.0] |455000 |\n",
      "+---------+--------+---------+-------------+-------+-------------------------+-------+\n",
      "only showing top 20 rows\n",
      "\n"
     ]
    }
   ],
   "source": [
    "from pyspark.ml.feature import VectorAssembler\n",
    "\n",
    "## TODO : Build features with  \"Bedrooms\", \"Bathrooms\", \"SqFtTotLiving\", \"SqFtLot\"\n",
    "## Hint : inputCols = ['Bedrooms', 'Bathrooms', ??? , ??? ]\n",
    "\n",
    "assembler = VectorAssembler(inputCols=[\"Bedrooms\", \"Bathrooms\", \"SqFtTotLiving\", \"SqFtLot\"], outputCol=\"features\")\n",
    "featureVector = assembler.transform(housePrices_small)\n",
    "\n",
    "## TODO : create a label column to mirror 'SalePrice'\n",
    "featureVector = featureVector.withColumn(\"label\", featureVector[\"SalePrice\"])\n",
    "featureVector.show(20, False)"
   ]
  },
  {
   "cell_type": "markdown",
   "metadata": {},
   "source": [
    "##  Step 3: Run the Linear Regression Model\n"
   ]
  },
  {
   "cell_type": "code",
   "execution_count": 6,
   "metadata": {},
   "outputs": [
    {
     "name": "stdout",
     "output_type": "stream",
     "text": [
      "Coefficents:[-69405.45781195552,25714.1481078027,274.45831276947166,-0.0]\n",
      "Intercept: 105562.58117252712\n"
     ]
    }
   ],
   "source": [
    "from pyspark.ml.regression import LinearRegression\n",
    "\n",
    "## Hint : Run model with max iterations as 10\n",
    "#lr = LinearRegression(maxIter=???)\n",
    "lr = LinearRegression(maxIter=10, regParam=0.3, elasticNetParam=0.8)\n",
    "lrModel = lr.fit(featureVector)\n",
    "\n",
    "print(\"Coefficents:\" + str(lrModel.coefficients))\n",
    "print(\"Intercept: \" + str(lrModel.intercept))\n",
    "\n"
   ]
  },
  {
   "cell_type": "markdown",
   "metadata": {},
   "source": [
    "**Insepct the coeffiients.  Are you seeing any ZERO (0) values?  What is the meaning of this?**"
   ]
  },
  {
   "cell_type": "code",
   "execution_count": 11,
   "metadata": {},
   "outputs": [
    {
     "name": "stdout",
     "output_type": "stream",
     "text": [
      "numIterations: 11\n",
      "objectiveHistory: [0.5000000000000002, 0.4565457266170319, 0.3376986997173243, 0.30010335871879656, 0.2852977093323423, 0.27654782886180707, 0.2701349132960898, 0.26332624819112604, 0.26138384191458414, 0.25967594157902535, 0.25839392000729794]\n",
      "RMSE: 246442.225880\n",
      "r2: 0.483214\n"
     ]
    }
   ],
   "source": [
    "print(\"numIterations: %d\" % lrModel.summary.totalIterations)\n",
    "print(\"objectiveHistory: %s\" % str(lrModel.summary.objectiveHistory))\n",
    "# lrModel.summary.residuals.show()\n",
    "print(\"RMSE: %f\" % lrModel.summary.rootMeanSquaredError)\n",
    "\n",
    "## TODO : print 'r2' from training summary\n",
    "## Hint : Use TAB completion\n",
    "print(\"r2: %f\" % lrModel.summary.r2)\n"
   ]
  },
  {
   "cell_type": "markdown",
   "metadata": {},
   "source": [
    "#### Observe the summary output\n",
    "- How many iterations did it do?\n",
    "- Is it more than our 'max' iterations?\n",
    "- If so, increase the 'maxIter' to 50 and run it again\n",
    "- How many iterations is done now?  \n",
    "- Can you explain the behavior?\n",
    "- Also did the coefficients change from  maxIter=10  to maxIter=50 ?\n",
    "- Did r2 change?  Why / Why-not?"
   ]
  },
  {
   "cell_type": "markdown",
   "metadata": {},
   "source": [
    "\n",
    "\n",
    "## Step 3:  Predict some home prices\n",
    "Create a new data frame with the following data"
   ]
  },
  {
   "cell_type": "code",
   "execution_count": 12,
   "metadata": {
    "attributes": {
     "classes": [
      "R"
     ],
     "id": ""
    }
   },
   "outputs": [
    {
     "name": "stdout",
     "output_type": "stream",
     "text": [
      "+--------+---------+-------------+-------+--------------------+\n",
      "|Bedrooms|Bathrooms|SqFtTotLiving|SqFtLot|            features|\n",
      "+--------+---------+-------------+-------+--------------------+\n",
      "|       5|      3.0|         4400|  10000|[5.0,3.0,4400.0,1...|\n",
      "|       3|      2.0|         1800|   5000|[3.0,2.0,1800.0,5...|\n",
      "|       2|      1.5|         1550|   4000|[2.0,1.5,1550.0,4...|\n",
      "+--------+---------+-------------+-------+--------------------+\n",
      "\n"
     ]
    }
   ],
   "source": [
    "\n",
    "# Make a Pandas dataframe\n",
    "new_data = pd.DataFrame({'Bedrooms' : [5,3,2],\n",
    "                         'Bathrooms' : [3,2,1.5],\n",
    "                         'SqFtTotLiving' : [4400, 1800, 1550],\n",
    "                         'SqFtLot' : [10000, 5000, 4000]\n",
    "             })\n",
    "\n",
    "new_data_spark = spark.createDataFrame(new_data)\n",
    "new_featureVector = assembler.transform(new_data_spark)  #run VectorAssembler again to create features.\n",
    "new_featureVector.show()\n",
    "\n",
    "\n"
   ]
  },
  {
   "cell_type": "markdown",
   "metadata": {},
   "source": [
    "## Step 4: Run on some prediction data\n",
    "\n",
    "Lets see the predicted output."
   ]
  },
  {
   "cell_type": "code",
   "execution_count": 13,
   "metadata": {
    "attributes": {
     "classes": [
      "R"
     ],
     "id": ""
    }
   },
   "outputs": [
    {
     "name": "stdout",
     "output_type": "stream",
     "text": [
      "+--------+---------+-------------+-------+--------------------+------------------+\n",
      "|Bedrooms|Bathrooms|SqFtTotLiving|SqFtLot|            features|        prediction|\n",
      "+--------+---------+-------------+-------+--------------------+------------------+\n",
      "|       5|      3.0|         4400|  10000|[5.0,3.0,4400.0,1...|1043294.3126218329|\n",
      "|       3|      2.0|         1800|   5000|[3.0,2.0,1800.0,5...|442799.46693731495|\n",
      "|       2|      1.5|         1550|   4000|[2.0,1.5,1550.0,4...| 430733.2725030012|\n",
      "+--------+---------+-------------+-------+--------------------+------------------+\n",
      "\n"
     ]
    }
   ],
   "source": [
    "## TODO: transform dataframe with new feature vector to get predictions\n",
    "## Hint : new_featureVector\n",
    "\n",
    "predicted_prices = lrModel.transform(new_featureVector)\n",
    "predicted_prices.show()"
   ]
  },
  {
   "cell_type": "markdown",
   "metadata": {},
   "source": [
    "## Step 5 : Some more FUN\n",
    "Now let's feed 'SalePrice' as an input to our VectorAssembler.  \n",
    "In Step-2, try this\n",
    "\n",
    "```python\n",
    "assembler = VectorAssembler(inputCols=[\"SalePrice\", \"Bedrooms\", \"Bathrooms\", \"SqFtTotLiving\", \"SqFtLot\"],\n",
    "                            outputCol=\"features\")\n",
    "```\n",
    "\n",
    "Run again, and observe the following:\n",
    "- look at the coefficients  (why are most of them zero?)\n",
    "- look at r2\n",
    "\n",
    "Can you explain what is going on :-) "
   ]
  },
  {
   "cell_type": "code",
   "execution_count": null,
   "metadata": {},
   "outputs": [],
   "source": []
  }
 ],
 "metadata": {
  "kernelspec": {
   "display_name": "Python 3",
   "language": "python",
   "name": "python3"
  },
  "language_info": {
   "codemirror_mode": {
    "name": "ipython",
    "version": 3
   },
   "file_extension": ".py",
   "mimetype": "text/x-python",
   "name": "python",
   "nbconvert_exporter": "python",
   "pygments_lexer": "ipython3",
   "version": "3.6.5"
  }
 },
 "nbformat": 4,
 "nbformat_minor": 2
}
